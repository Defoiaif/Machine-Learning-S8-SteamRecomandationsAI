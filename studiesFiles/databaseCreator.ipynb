{
 "cells": [
  {
   "cell_type": "markdown",
   "metadata": {},
   "source": [
    "# _**Database Creator**_"
   ]
  },
  {
   "cell_type": "markdown",
   "metadata": {},
   "source": [
    "### _Imports_"
   ]
  },
  {
   "cell_type": "code",
   "execution_count": 1,
   "metadata": {},
   "outputs": [],
   "source": [
    "import json\n",
    "from requests import Session\n",
    "from time import sleep\n",
    "\n",
    "SESSION = Session()"
   ]
  },
  {
   "cell_type": "markdown",
   "metadata": {},
   "source": [
    "### _Functions_"
   ]
  },
  {
   "cell_type": "code",
   "execution_count": 2,
   "metadata": {},
   "outputs": [],
   "source": [
    "def getUsefulData (game : dict):\n",
    "    if 'dlc' in game:\n",
    "        game['dlc'] = len(game['dlc'])\n",
    "    if 'achievements' in game:\n",
    "        game['achievements'] = game['achievements']['total']\n",
    "    if 'metacritic' in game:\n",
    "        game['metacritic'] = game['metacritic']['score']\n",
    "    game['release_date'] = game['release_date']['date']\n",
    "    if 'recommendations' in game:\n",
    "        game['recommendations'] = game['recommendations']['total']\n",
    "    return {key: game[key] for key in game.keys() & {'required_age', 'pc_requirements', 'mac_requirements',\n",
    "                                                     'linux_requirements', 'developers', 'publishers', 'price_overview',\n",
    "                                                     'platforms', 'metacritic', 'categories', 'genres', 'recommendations',\n",
    "                                                     'release_date', 'ratings'\n",
    "                                                    }}"
   ]
  },
  {
   "cell_type": "markdown",
   "metadata": {},
   "source": [
    "## **<u>Get all steam games</u>**"
   ]
  },
  {
   "cell_type": "code",
   "execution_count": null,
   "metadata": {},
   "outputs": [],
   "source": [
    "response = SESSION.get(\"https://api.steampowered.com/ISteamApps/GetAppList/v2/\")\n",
    "assert response.status_code == 200\n",
    "steamGames = json.loads(response.text)\n",
    "steamGames['applist']['apps'] = list(filter(lambda d:  not (d['name'] == \"\" or d['name'].endswith(\"Playtest\") or\n",
    "                                                            d['name'].endswith(\"Demo\")) or d['name'].upper().__contains__(\"DLC\") or\n",
    "                                                            d['name'].upper().__contains__(\"EXPANSION PA\") or\n",
    "                                                            d['name'].upper().__contains__(\"SOUNDTRACK\"),\n",
    "                                            steamGames['applist']['apps']))\n",
    "\n",
    "with open('steamGames.json', \"w\") as steamGamesFile:\n",
    "    steamGamesFile.seek(0)\n",
    "    json.dump(steamGames, steamGamesFile)\n",
    "    steamGamesFile.truncate()"
   ]
  },
  {
   "cell_type": "markdown",
   "metadata": {},
   "source": [
    "## **<u>Get steam games owner quantity</u>**"
   ]
  },
  {
   "cell_type": "code",
   "execution_count": null,
   "metadata": {},
   "outputs": [],
   "source": [
    "page = 0\n",
    "data = []\n",
    "\n",
    "while True:\n",
    "    response = SESSION.get(\"https://steamspy.com/api.php?request=all&page=\" + str(page))\n",
    "    if response.status_code != 200:\n",
    "        break\n",
    "\n",
    "    x = list(map(lambda d: {key: d[key] for key in d.keys() & {'appid', 'name', 'owners', 'average_forever',\n",
    "                                                               'average_2weeks', 'median_forever', 'median_2weeks'}},\n",
    "                 list(json.loads(response.text).values())))\n",
    "    data = data + x\n",
    "    page += 1\n",
    "\n",
    "with open('steamGamesOwner.json', \"w\") as steamGamesFile:\n",
    "    json.dump(data, steamGamesFile)\n",
    "    steamGamesFile.truncate()"
   ]
  },
  {
   "cell_type": "markdown",
   "metadata": {},
   "source": [
    "## **<u>Get games details</u>**"
   ]
  },
  {
   "cell_type": "code",
   "execution_count": 4,
   "metadata": {},
   "outputs": [
    {
     "name": "stdout",
     "output_type": "stream",
     "text": [
      "1546190\n",
      "200\n"
     ]
    },
    {
     "ename": "KeyError",
     "evalue": "'1546190'",
     "output_type": "error",
     "traceback": [
      "\u001b[1;31m---------------------------------------------------------------------------\u001b[0m",
      "\u001b[1;31mKeyError\u001b[0m                                  Traceback (most recent call last)",
      "Cell \u001b[1;32mIn[4], line 40\u001b[0m\n\u001b[0;32m     38\u001b[0m         json\u001b[38;5;241m.\u001b[39mdump(applist, gamesList)\n\u001b[0;32m     39\u001b[0m         gamesList\u001b[38;5;241m.\u001b[39mtruncate()\n\u001b[1;32m---> 40\u001b[0m         \u001b[38;5;28;01mraise\u001b[39;00m err\n\u001b[0;32m     42\u001b[0m applist[\u001b[38;5;124m'\u001b[39m\u001b[38;5;124mapplist\u001b[39m\u001b[38;5;124m'\u001b[39m][\u001b[38;5;124m'\u001b[39m\u001b[38;5;124mapps\u001b[39m\u001b[38;5;124m'\u001b[39m] \u001b[38;5;241m=\u001b[39m games\n\u001b[0;32m     43\u001b[0m gamesList\u001b[38;5;241m.\u001b[39mseek(\u001b[38;5;241m0\u001b[39m)\n",
      "Cell \u001b[1;32mIn[4], line 19\u001b[0m\n\u001b[0;32m     17\u001b[0m     \u001b[38;5;28;01mif\u001b[39;00m response\u001b[38;5;241m.\u001b[39mstatus_code \u001b[38;5;241m==\u001b[39m \u001b[38;5;241m200\u001b[39m:\n\u001b[0;32m     18\u001b[0m         \u001b[38;5;28mprint\u001b[39m(\u001b[38;5;124m'\u001b[39m\u001b[38;5;124mAquired !\u001b[39m\u001b[38;5;124m'\u001b[39m)\n\u001b[1;32m---> 19\u001b[0m x \u001b[38;5;241m=\u001b[39m \u001b[43mjson\u001b[49m\u001b[38;5;241;43m.\u001b[39;49m\u001b[43mloads\u001b[49m\u001b[43m(\u001b[49m\u001b[43mresponse\u001b[49m\u001b[38;5;241;43m.\u001b[39;49m\u001b[43mtext\u001b[49m\u001b[43m)\u001b[49m\u001b[43m[\u001b[49m\u001b[38;5;28;43mstr\u001b[39;49m\u001b[43m(\u001b[49m\u001b[43mgames\u001b[49m\u001b[43m[\u001b[49m\u001b[38;5;241;43m-\u001b[39;49m\u001b[43mi\u001b[49m\u001b[43m \u001b[49m\u001b[38;5;241;43m-\u001b[39;49m\u001b[43m \u001b[49m\u001b[38;5;241;43m1\u001b[39;49m\u001b[43m]\u001b[49m\u001b[43m[\u001b[49m\u001b[38;5;124;43m'\u001b[39;49m\u001b[38;5;124;43mappid\u001b[39;49m\u001b[38;5;124;43m'\u001b[39;49m\u001b[43m]\u001b[49m\u001b[43m)\u001b[49m\u001b[43m]\u001b[49m\n\u001b[0;32m     20\u001b[0m \u001b[38;5;28;01mif\u001b[39;00m x[\u001b[38;5;124m'\u001b[39m\u001b[38;5;124msuccess\u001b[39m\u001b[38;5;124m'\u001b[39m] \u001b[38;5;241m==\u001b[39m \u001b[38;5;28;01mTrue\u001b[39;00m:\n\u001b[0;32m     21\u001b[0m     x \u001b[38;5;241m=\u001b[39m x[\u001b[38;5;124m'\u001b[39m\u001b[38;5;124mdata\u001b[39m\u001b[38;5;124m'\u001b[39m]\n",
      "\u001b[1;31mKeyError\u001b[0m: '1546190'"
     ]
    }
   ],
   "source": [
    "with open(\"steamGames.json\", \"r+\") as gamesList:\n",
    "    applist = json.load(gamesList)\n",
    "    games : list = applist['applist']['apps']\n",
    "    i = 0\n",
    "    while i < len(games):\n",
    "        if len(games[i]) > 2:\n",
    "            i += 1\n",
    "            continue\n",
    "        try:\n",
    "            response = SESSION.get(\"https://store.steampowered.com/api/appdetails?appids=\" + str(games[i]['appid']))\n",
    "            # response = SESSION.get(\"https://store.steampowered.com/api/appdetails?appids=\" + str(2407760))\n",
    "            while not response.status_code == 200:\n",
    "                print(games[i]['appid'])\n",
    "                print(response.status_code)\n",
    "                sleep(60)\n",
    "                response = SESSION.get(\"https://store.steampowered.com/api/appdetails?appids=\" + str(games[i]['appid']))\n",
    "                if response.status_code == 200:\n",
    "                    print('Aquired !')\n",
    "            x = json.loads(response.text)[str(games[i]['appid'])]\n",
    "            if x['success'] == True:\n",
    "                x = x['data']\n",
    "                if x['type'] == 'game':\n",
    "                    if 'dlc' in x and len(x['dlc']) > 0:\n",
    "                        games = list(filter(lambda d: not d[\"appid\"] in x['dlc'], games))\n",
    "                    games[i] = games[i] | getUsefulData(x)\n",
    "                else:\n",
    "                    games.pop(i)\n",
    "                    i -= 1\n",
    "            else:\n",
    "                    games.pop(i)\n",
    "                    i -= 1\n",
    "            i += 1\n",
    "        except (Exception, BaseException) as err:\n",
    "            print(games[i]['appid'])\n",
    "            print(response.status_code)\n",
    "            applist['applist']['apps'] = games\n",
    "            gamesList.seek(0)\n",
    "            json.dump(applist, gamesList)\n",
    "            gamesList.truncate()\n",
    "            raise err\n",
    "    \n",
    "    applist['applist']['apps'] = games\n",
    "    gamesList.seek(0)\n",
    "    json.dump(applist, gamesList)\n",
    "    gamesList.truncate()"
   ]
  },
  {
   "cell_type": "markdown",
   "metadata": {},
   "source": [
    "## **<u>Merge the files</u>**"
   ]
  },
  {
   "cell_type": "code",
   "execution_count": null,
   "metadata": {},
   "outputs": [],
   "source": []
  }
 ],
 "metadata": {
  "kernelspec": {
   "display_name": ".venv",
   "language": "python",
   "name": "python3"
  },
  "language_info": {
   "codemirror_mode": {
    "name": "ipython",
    "version": 3
   },
   "file_extension": ".py",
   "mimetype": "text/x-python",
   "name": "python",
   "nbconvert_exporter": "python",
   "pygments_lexer": "ipython3",
   "version": "3.11.9"
  }
 },
 "nbformat": 4,
 "nbformat_minor": 2
}
