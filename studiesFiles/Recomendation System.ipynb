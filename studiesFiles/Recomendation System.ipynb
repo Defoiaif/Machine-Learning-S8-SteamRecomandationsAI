{
 "cells": [
  {
   "cell_type": "markdown",
   "metadata": {},
   "source": [
    "# Game Recommendation System\n",
    "This notebook demonstrates how to build a recommendation system using content-based filtering. The system takes into account user preferences and game attributes to recommend games."
   ]
  },
  {
   "cell_type": "code",
   "execution_count": 2,
   "metadata": {},
   "outputs": [],
   "source": [
    "# Import necessary libraries\n",
    "import pandas as pd\n",
    "from sklearn.preprocessing import MinMaxScaler"
   ]
  },
  {
   "cell_type": "markdown",
   "metadata": {},
   "source": [
    "## Sample Game Data\n",
    "We'll start by creating some sample game data."
   ]
  },
  {
   "cell_type": "code",
   "execution_count": 3,
   "metadata": {},
   "outputs": [
    {
     "data": {
      "text/html": [
       "<div>\n",
       "<style scoped>\n",
       "    .dataframe tbody tr th:only-of-type {\n",
       "        vertical-align: middle;\n",
       "    }\n",
       "\n",
       "    .dataframe tbody tr th {\n",
       "        vertical-align: top;\n",
       "    }\n",
       "\n",
       "    .dataframe thead th {\n",
       "        text-align: right;\n",
       "    }\n",
       "</style>\n",
       "<table border=\"1\" class=\"dataframe\">\n",
       "  <thead>\n",
       "    <tr style=\"text-align: right;\">\n",
       "      <th></th>\n",
       "      <th>appid</th>\n",
       "      <th>name</th>\n",
       "      <th>playtime_forever</th>\n",
       "      <th>genres</th>\n",
       "      <th>platforms</th>\n",
       "      <th>price</th>\n",
       "      <th>dlc_count</th>\n",
       "      <th>recommendations</th>\n",
       "      <th>categories</th>\n",
       "    </tr>\n",
       "  </thead>\n",
       "  <tbody>\n",
       "    <tr>\n",
       "      <th>0</th>\n",
       "      <td>2409360</td>\n",
       "      <td>Pixel Cafe</td>\n",
       "      <td>300</td>\n",
       "      <td>[Casual, Indie]</td>\n",
       "      <td>[windows]</td>\n",
       "      <td>12.79</td>\n",
       "      <td>2</td>\n",
       "      <td>78</td>\n",
       "      <td>[Single-player, Steam Achievements]</td>\n",
       "    </tr>\n",
       "    <tr>\n",
       "      <th>1</th>\n",
       "      <td>113020</td>\n",
       "      <td>Monaco</td>\n",
       "      <td>266</td>\n",
       "      <td>[Strategy, Indie]</td>\n",
       "      <td>[windows, mac]</td>\n",
       "      <td>15.99</td>\n",
       "      <td>5</td>\n",
       "      <td>100</td>\n",
       "      <td>[Multiplayer, Co-op]</td>\n",
       "    </tr>\n",
       "  </tbody>\n",
       "</table>\n",
       "</div>"
      ],
      "text/plain": [
       "     appid        name  playtime_forever             genres       platforms  \\\n",
       "0  2409360  Pixel Cafe               300    [Casual, Indie]       [windows]   \n",
       "1   113020      Monaco               266  [Strategy, Indie]  [windows, mac]   \n",
       "\n",
       "   price  dlc_count  recommendations                           categories  \n",
       "0  12.79          2               78  [Single-player, Steam Achievements]  \n",
       "1  15.99          5              100                 [Multiplayer, Co-op]  "
      ]
     },
     "execution_count": 3,
     "metadata": {},
     "output_type": "execute_result"
    }
   ],
   "source": [
    "# Sample data\n",
    "game_data = {\n",
    "    'appid': [2409360, 113020],\n",
    "    'name': [\"Pixel Cafe\", \"Monaco\"],\n",
    "    'playtime_forever': [300, 266],\n",
    "    'genres': [[\"Casual\", \"Indie\"], [\"Strategy\", \"Indie\"]],\n",
    "    'platforms': [[\"windows\"], [\"windows\", \"mac\"]],\n",
    "    'price': [12.79, 15.99],\n",
    "    'dlc_count': [2, 5],\n",
    "    'recommendations': [78, 100],\n",
    "    'categories': [[\"Single-player\", \"Steam Achievements\"], [\"Multiplayer\", \"Co-op\"]]\n",
    "}\n",
    "\n",
    "# Convert to DataFrame\n",
    "df = pd.DataFrame(game_data)\n",
    "df"
   ]
  },
  {
   "cell_type": "markdown",
   "metadata": {},
   "source": [
    "## Normalizing Numerical Features\n",
    "We'll normalize the numerical features using MinMaxScaler."
   ]
  },
  {
   "cell_type": "code",
   "execution_count": 4,
   "metadata": {},
   "outputs": [
    {
     "data": {
      "text/html": [
       "<div>\n",
       "<style scoped>\n",
       "    .dataframe tbody tr th:only-of-type {\n",
       "        vertical-align: middle;\n",
       "    }\n",
       "\n",
       "    .dataframe tbody tr th {\n",
       "        vertical-align: top;\n",
       "    }\n",
       "\n",
       "    .dataframe thead th {\n",
       "        text-align: right;\n",
       "    }\n",
       "</style>\n",
       "<table border=\"1\" class=\"dataframe\">\n",
       "  <thead>\n",
       "    <tr style=\"text-align: right;\">\n",
       "      <th></th>\n",
       "      <th>appid</th>\n",
       "      <th>name</th>\n",
       "      <th>playtime_forever</th>\n",
       "      <th>genres</th>\n",
       "      <th>platforms</th>\n",
       "      <th>price</th>\n",
       "      <th>dlc_count</th>\n",
       "      <th>recommendations</th>\n",
       "      <th>categories</th>\n",
       "    </tr>\n",
       "  </thead>\n",
       "  <tbody>\n",
       "    <tr>\n",
       "      <th>0</th>\n",
       "      <td>2409360</td>\n",
       "      <td>Pixel Cafe</td>\n",
       "      <td>1.0</td>\n",
       "      <td>[Casual, Indie]</td>\n",
       "      <td>[windows]</td>\n",
       "      <td>0.0</td>\n",
       "      <td>0.0</td>\n",
       "      <td>0.0</td>\n",
       "      <td>[Single-player, Steam Achievements]</td>\n",
       "    </tr>\n",
       "    <tr>\n",
       "      <th>1</th>\n",
       "      <td>113020</td>\n",
       "      <td>Monaco</td>\n",
       "      <td>0.0</td>\n",
       "      <td>[Strategy, Indie]</td>\n",
       "      <td>[windows, mac]</td>\n",
       "      <td>1.0</td>\n",
       "      <td>1.0</td>\n",
       "      <td>1.0</td>\n",
       "      <td>[Multiplayer, Co-op]</td>\n",
       "    </tr>\n",
       "  </tbody>\n",
       "</table>\n",
       "</div>"
      ],
      "text/plain": [
       "     appid        name  playtime_forever             genres       platforms  \\\n",
       "0  2409360  Pixel Cafe               1.0    [Casual, Indie]       [windows]   \n",
       "1   113020      Monaco               0.0  [Strategy, Indie]  [windows, mac]   \n",
       "\n",
       "   price  dlc_count  recommendations                           categories  \n",
       "0    0.0        0.0              0.0  [Single-player, Steam Achievements]  \n",
       "1    1.0        1.0              1.0                 [Multiplayer, Co-op]  "
      ]
     },
     "execution_count": 4,
     "metadata": {},
     "output_type": "execute_result"
    }
   ],
   "source": [
    "# Normalize numerical features\n",
    "scaler = MinMaxScaler()\n",
    "df[['playtime_forever', 'price', 'dlc_count', 'recommendations']] = scaler.fit_transform(df[['playtime_forever', 'price', 'dlc_count', 'recommendations']])\n",
    "df"
   ]
  },
  {
   "cell_type": "markdown",
   "metadata": {},
   "source": [
    "## One-Hot Encoding\n",
    "We need to convert categorical data (genres and platforms) into numerical data using one-hot encoding."
   ]
  },
  {
   "cell_type": "code",
   "execution_count": 5,
   "metadata": {},
   "outputs": [
    {
     "data": {
      "text/html": [
       "<div>\n",
       "<style scoped>\n",
       "    .dataframe tbody tr th:only-of-type {\n",
       "        vertical-align: middle;\n",
       "    }\n",
       "\n",
       "    .dataframe tbody tr th {\n",
       "        vertical-align: top;\n",
       "    }\n",
       "\n",
       "    .dataframe thead th {\n",
       "        text-align: right;\n",
       "    }\n",
       "</style>\n",
       "<table border=\"1\" class=\"dataframe\">\n",
       "  <thead>\n",
       "    <tr style=\"text-align: right;\">\n",
       "      <th></th>\n",
       "      <th>appid</th>\n",
       "      <th>name</th>\n",
       "      <th>playtime_forever</th>\n",
       "      <th>genres</th>\n",
       "      <th>platforms</th>\n",
       "      <th>price</th>\n",
       "      <th>dlc_count</th>\n",
       "      <th>recommendations</th>\n",
       "      <th>categories</th>\n",
       "      <th>Casual</th>\n",
       "      <th>Indie</th>\n",
       "      <th>Strategy</th>\n",
       "      <th>platform_mac</th>\n",
       "      <th>platform_windows</th>\n",
       "    </tr>\n",
       "  </thead>\n",
       "  <tbody>\n",
       "    <tr>\n",
       "      <th>0</th>\n",
       "      <td>113020</td>\n",
       "      <td>Monaco</td>\n",
       "      <td>0.0</td>\n",
       "      <td>StrategyIndieStrategyIndieStrategyIndieStrateg...</td>\n",
       "      <td>windowsmacwindowsmac</td>\n",
       "      <td>8.0</td>\n",
       "      <td>8.0</td>\n",
       "      <td>8.0</td>\n",
       "      <td>[Multiplayer, Co-op, Multiplayer, Co-op, Multi...</td>\n",
       "      <td>0</td>\n",
       "      <td>4</td>\n",
       "      <td>4</td>\n",
       "      <td>2</td>\n",
       "      <td>2</td>\n",
       "    </tr>\n",
       "    <tr>\n",
       "      <th>1</th>\n",
       "      <td>2409360</td>\n",
       "      <td>Pixel Cafe</td>\n",
       "      <td>4.0</td>\n",
       "      <td>CasualIndieCasualIndie</td>\n",
       "      <td>windowswindows</td>\n",
       "      <td>0.0</td>\n",
       "      <td>0.0</td>\n",
       "      <td>0.0</td>\n",
       "      <td>[Single-player, Steam Achievements, Single-pla...</td>\n",
       "      <td>2</td>\n",
       "      <td>2</td>\n",
       "      <td>0</td>\n",
       "      <td>0</td>\n",
       "      <td>2</td>\n",
       "    </tr>\n",
       "  </tbody>\n",
       "</table>\n",
       "</div>"
      ],
      "text/plain": [
       "     appid        name  playtime_forever  \\\n",
       "0   113020      Monaco               0.0   \n",
       "1  2409360  Pixel Cafe               4.0   \n",
       "\n",
       "                                              genres             platforms  \\\n",
       "0  StrategyIndieStrategyIndieStrategyIndieStrateg...  windowsmacwindowsmac   \n",
       "1                             CasualIndieCasualIndie        windowswindows   \n",
       "\n",
       "   price  dlc_count  recommendations  \\\n",
       "0    8.0        8.0              8.0   \n",
       "1    0.0        0.0              0.0   \n",
       "\n",
       "                                          categories  Casual  Indie  Strategy  \\\n",
       "0  [Multiplayer, Co-op, Multiplayer, Co-op, Multi...       0      4         4   \n",
       "1  [Single-player, Steam Achievements, Single-pla...       2      2         0   \n",
       "\n",
       "   platform_mac  platform_windows  \n",
       "0             2                 2  \n",
       "1             0                 2  "
      ]
     },
     "execution_count": 5,
     "metadata": {},
     "output_type": "execute_result"
    }
   ],
   "source": [
    "# One-hot encoding for genres and platforms\n",
    "df = df.explode('genres')\n",
    "df = pd.concat([df, pd.get_dummies(df['genres'])], axis=1).groupby(['appid', 'name']).sum().reset_index()\n",
    "\n",
    "df = df.explode('platforms')\n",
    "df = pd.concat([df, pd.get_dummies(df['platforms'], prefix='platform')], axis=1).groupby(['appid', 'name']).sum().reset_index()\n",
    "\n",
    "df"
   ]
  },
  {
   "cell_type": "markdown",
   "metadata": {},
   "source": [
    "## User Preferences\n",
    "Define user preferences to specify the importance of each attribute."
   ]
  },
  {
   "cell_type": "code",
   "execution_count": 6,
   "metadata": {},
   "outputs": [
    {
     "data": {
      "text/plain": [
       "{'playtime_forever': 0.1,\n",
       " 'price': 0.2,\n",
       " 'dlc_count': 0.1,\n",
       " 'recommendations': 0.2,\n",
       " 'Casual': 0.1,\n",
       " 'Indie': 0.1,\n",
       " 'Strategy': 0.1,\n",
       " 'platform_windows': 0.1,\n",
       " 'platform_mac': 0.1}"
      ]
     },
     "execution_count": 6,
     "metadata": {},
     "output_type": "execute_result"
    }
   ],
   "source": [
    "# Define user importance for each attribute\n",
    "user_importance = {\n",
    "    'playtime_forever': 0.1,\n",
    "    'price': 0.2,\n",
    "    'dlc_count': 0.1,\n",
    "    'recommendations': 0.2,\n",
    "    'Casual': 0.1,\n",
    "    'Indie': 0.1,\n",
    "    'Strategy': 0.1,\n",
    "    'platform_windows': 0.1,\n",
    "    'platform_mac': 0.1\n",
    "}\n",
    "\n",
    "# Display user preferences\n",
    "user_importance"
   ]
  },
  {
   "cell_type": "markdown",
   "metadata": {},
   "source": [
    "## Weighted Scoring System\n",
    "Calculate a weighted score for each game based on user preferences."
   ]
  },
  {
   "cell_type": "code",
   "execution_count": 7,
   "metadata": {},
   "outputs": [
    {
     "data": {
      "text/html": [
       "<div>\n",
       "<style scoped>\n",
       "    .dataframe tbody tr th:only-of-type {\n",
       "        vertical-align: middle;\n",
       "    }\n",
       "\n",
       "    .dataframe tbody tr th {\n",
       "        vertical-align: top;\n",
       "    }\n",
       "\n",
       "    .dataframe thead th {\n",
       "        text-align: right;\n",
       "    }\n",
       "</style>\n",
       "<table border=\"1\" class=\"dataframe\">\n",
       "  <thead>\n",
       "    <tr style=\"text-align: right;\">\n",
       "      <th></th>\n",
       "      <th>appid</th>\n",
       "      <th>name</th>\n",
       "      <th>score</th>\n",
       "    </tr>\n",
       "  </thead>\n",
       "  <tbody>\n",
       "    <tr>\n",
       "      <th>0</th>\n",
       "      <td>113020</td>\n",
       "      <td>Monaco</td>\n",
       "      <td>5.2</td>\n",
       "    </tr>\n",
       "    <tr>\n",
       "      <th>1</th>\n",
       "      <td>2409360</td>\n",
       "      <td>Pixel Cafe</td>\n",
       "      <td>1.0</td>\n",
       "    </tr>\n",
       "  </tbody>\n",
       "</table>\n",
       "</div>"
      ],
      "text/plain": [
       "     appid        name  score\n",
       "0   113020      Monaco    5.2\n",
       "1  2409360  Pixel Cafe    1.0"
      ]
     },
     "execution_count": 7,
     "metadata": {},
     "output_type": "execute_result"
    }
   ],
   "source": [
    "# Calculate weighted score for each game\n",
    "df['score'] = df.apply(lambda row: sum([row[attr] * user_importance.get(attr, 0) for attr in user_importance]), axis=1)\n",
    "\n",
    "# Sort games by score\n",
    "recommended_games = df.sort_values(by='score', ascending=False)\n",
    "recommended_games[['appid', 'name', 'score']]"
   ]
  },
  {
   "cell_type": "markdown",
   "metadata": {},
   "source": [
    "## Recommendation Function\n",
    "Create a function that takes user preferences and game data, calculates scores, and returns recommendations."
   ]
  },
  {
   "cell_type": "code",
   "execution_count": 8,
   "metadata": {},
   "outputs": [],
   "source": [
    "def recommend_games(user_preferences, game_data):\n",
    "    df = pd.DataFrame(game_data)\n",
    "    \n",
    "    # Normalize and preprocess data\n",
    "    scaler = MinMaxScaler()\n",
    "    df[['playtime_forever', 'price', 'dlc_count', 'recommendations']] = scaler.fit_transform(df[['playtime_forever', 'price', 'dlc_count', 'recommendations']])\n",
    "    \n",
    "    df = df.explode('genres')\n",
    "    df = pd.concat([df, pd.get_dummies(df['genres'])], axis=1).groupby(['appid', 'name']).sum().reset_index()\n",
    "    \n",
    "    df = df.explode('platforms')\n",
    "    df = pd.concat([df, pd.get_dummies(df['platforms'], prefix='platform')], axis=1).groupby(['appid', 'name']).sum().reset_index()\n",
    "    \n",
    "    # Calculate weighted score\n",
    "    df['score'] = df.apply(lambda row: sum([row[attr] * user_preferences.get(attr, 0) for attr in user_preferences]), axis=1)\n",
    "    \n",
    "    # Sort and return recommended games\n",
    "    recommended_games = df.sort_values(by='score', ascending=False)\n",
    "    return recommended_games[['appid', 'name', 'score']]"
   ]
  },
  {
   "cell_type": "markdown",
   "metadata": {},
   "source": [
    "## Using the Recommendation Function\n",
    "Provide sample game data and user preferences to get game recommendations."
   ]
  },
  {
   "cell_type": "code",
   "execution_count": 11,
   "metadata": {},
   "outputs": [
    {
     "data": {
      "text/html": [
       "<div>\n",
       "<style scoped>\n",
       "    .dataframe tbody tr th:only-of-type {\n",
       "        vertical-align: middle;\n",
       "    }\n",
       "\n",
       "    .dataframe tbody tr th {\n",
       "        vertical-align: top;\n",
       "    }\n",
       "\n",
       "    .dataframe thead th {\n",
       "        text-align: right;\n",
       "    }\n",
       "</style>\n",
       "<table border=\"1\" class=\"dataframe\">\n",
       "  <thead>\n",
       "    <tr style=\"text-align: right;\">\n",
       "      <th></th>\n",
       "      <th>appid</th>\n",
       "      <th>name</th>\n",
       "      <th>score</th>\n",
       "    </tr>\n",
       "  </thead>\n",
       "  <tbody>\n",
       "    <tr>\n",
       "      <th>0</th>\n",
       "      <td>113020</td>\n",
       "      <td>Monaco</td>\n",
       "      <td>5.2</td>\n",
       "    </tr>\n",
       "    <tr>\n",
       "      <th>1</th>\n",
       "      <td>2409360</td>\n",
       "      <td>Pixel Cafe</td>\n",
       "      <td>1.0</td>\n",
       "    </tr>\n",
       "  </tbody>\n",
       "</table>\n",
       "</div>"
      ],
      "text/plain": [
       "     appid        name  score\n",
       "0   113020      Monaco    5.2\n",
       "1  2409360  Pixel Cafe    1.0"
      ]
     },
     "execution_count": 11,
     "metadata": {},
     "output_type": "execute_result"
    }
   ],
   "source": [
    "# Sample game data\n",
    "game_data = {\n",
    "    'appid': [2409360, 113020],\n",
    "    'name': [\"Pixel Cafe\", \"Monaco\"],\n",
    "    'playtime_forever': [719, 720],\n",
    "    'genres': [[\"Casual\", \"Indie\"], [\"Strategy\", \"Indie\"]],\n",
    "    'platforms': [[\"windows\"], [\"windows\", \"mac\"]],\n",
    "    'price': [12.79, 15.99],\n",
    "    'dlc_count': [6, 5],\n",
    "    'recommendations': [99, 100],\n",
    "    'categories': [[\"Single-player\", \"Steam Achievements\"], [\"Multiplayer\", \"Co-op\"]]\n",
    "}\n",
    "\n",
    "# Define user preferences\n",
    "user_preferences = {\n",
    "    'playtime_forever': 0.1,\n",
    "    'price': 0.2,\n",
    "    'dlc_count': 0.1,\n",
    "    'recommendations': 0.2,\n",
    "    'Casual': 0.1,\n",
    "    'Indie': 0.1,\n",
    "    'Strategy': 0.1,\n",
    "    'platform_windows': 0.1,\n",
    "    'platform_mac': 0.1\n",
    "}\n",
    "\n",
    "# Recommend games\n",
    "recommendations = recommend_games(user_preferences, game_data)\n",
    "recommendations"
   ]
  }
 ],
 "metadata": {
  "kernelspec": {
   "display_name": "Python 3",
   "language": "python",
   "name": "python3"
  },
  "language_info": {
   "codemirror_mode": {
    "name": "ipython",
    "version": 3
   },
   "file_extension": ".py",
   "mimetype": "text/x-python",
   "name": "python",
   "nbconvert_exporter": "python",
   "pygments_lexer": "ipython3",
   "version": "3.11.9"
  }
 },
 "nbformat": 4,
 "nbformat_minor": 5
}
